{
 "cells": [
  {
   "cell_type": "markdown",
   "metadata": {},
   "source": [
    "## Train, tune, and deploy a custom ML model using Flight Delay Prediction Algorithm from AWS Marketplace \n",
    "\n",
    "\n",
    "This solution predicts flight delays based on factors such as route, airport congestion, airline efficiency etc. using a trainable ML model.\n",
    "\n",
    "\n",
    "\n",
    "This sample notebook shows you how to train a custom ML model using Flight Delay Prediction from AWS Marketplace.\n",
    "\n",
    "> **Note**: This is a reference notebook and it cannot run unless you make changes suggested in the notebook.\n",
    "\n",
    "#### Pre-requisites:\n",
    "1. **Note**: This notebook contains elements which render correctly in Jupyter interface. Open this notebook from an Amazon SageMaker Notebook Instance or Amazon SageMaker Studio.\n",
    "1. Ensure that IAM role used has **AmazonSageMakerFullAccess**\n",
    "1. Some hands-on experience using [Amazon SageMaker](https://aws.amazon.com/sagemaker/).\n",
    "1. To use this algorithm successfully, ensure that:\n",
    "    1. Either your IAM role has these three permissions and you have authority to make AWS Marketplace subscriptions in the AWS account used: \n",
    "        1. **aws-marketplace:ViewSubscriptions**\n",
    "        1. **aws-marketplace:Unsubscribe**\n",
    "        1. **aws-marketplace:Subscribe**  \n",
    "    2. or your AWS account has a subscription to For Seller to update: Flight Delay Prediction. \n",
    "\n",
    "#### Contents:\n",
    "1. [Subscribe to the algorithm](#1.-Subscribe-to-the-algorithm)\n",
    "1. [Prepare dataset](#2.-Prepare-dataset)\n",
    "\t1. [Dataset format expected by the algorithm](#A.-Dataset-format-expected-by-the-algorithm)\n",
    "\t1. [Configure and visualize train and test dataset](#B.-Configure-and-visualize-train-and-test-dataset)\n",
    "\t1. [Upload datasets to Amazon S3](#C.-Upload-datasets-to-Amazon-S3)\n",
    "1. [Train a machine learning model](#3:-Train-a-machine-learning-model)\n",
    "\t1. [Set up environment](#3.1-Set-up-environment)\n",
    "\t1. [Train a model](#3.2-Train-a-model)\n",
    "1. [Deploy model and verify results](#4:-Deploy-model-and-verify-results)\n",
    "    1. [Deploy trained model](#A.-Deploy-trained-model)\n",
    "    1. [Create input payload](#B.-Create-input-payload)\n",
    "    1. [Perform real-time inference](#C.-Perform-real-time-inference)\n",
    "    1. [Visualize output](#D.-Visualize-output)\n",
    "    1. [Calculate relevant metrics](#E.-Calculate-relevant-metrics)\n",
    "    1. [Delete the endpoint](#F.-Delete-the-endpoint)\n",
    "1. [Tune your model! (optional)](#5:-Tune-your-model!-(optional))\n",
    "\t1. [Tuning Guidelines](#A.-Tuning-Guidelines)\n",
    "\t1. [Define Tuning configuration](#B.-Define-Tuning-configuration)\n",
    "\t1. [Run a model tuning job](#C.-Run-a-model-tuning-job)\n",
    "1. [Perform Batch inference](#6.-Perform-Batch-inference)\n",
    "1. [Clean-up](#7.-Clean-up)\n",
    "\t1. [Delete the model](#A.-Delete-the-model)\n",
    "\t1. [Unsubscribe to the listing (optional)](#B.-Unsubscribe-to-the-listing-(optional))\n",
    "\n",
    "\n",
    "#### Usage instructions\n",
    "You can run this notebook one cell at a time (By using Shift+Enter for running a cell)."
   ]
  },
  {
   "cell_type": "markdown",
   "metadata": {},
   "source": [
    "### 1. Subscribe to the algorithm"
   ]
  },
  {
   "cell_type": "markdown",
   "metadata": {},
   "source": [
    "To subscribe to the algorithm:\n",
    "1. Open the algorithm listing page Flight Delay Prediction\n",
    "1. On the AWS Marketplace listing,  click on **Continue to subscribe** button.\n",
    "1. On the **Subscribe to this software** page, review and click on **\"Accept Offer\"** if you agree with EULA, pricing, and support terms. \n",
    "1. Once you click on **Continue to configuration button** and then choose a **region**, you will see a **Product Arn**. This is the algorithm ARN that you need to specify while training a custom ML model. Copy the ARN corresponding to your region and specify the same in the following cell."
   ]
  },
  {
   "cell_type": "code",
   "execution_count": 1,
   "metadata": {},
   "outputs": [],
   "source": [
    "algo_arn ='flight-delay-prediction'"
   ]
  },
  {
   "cell_type": "markdown",
   "metadata": {},
   "source": [
    "### 2. Prepare dataset"
   ]
  },
  {
   "cell_type": "code",
   "execution_count": 2,
   "metadata": {},
   "outputs": [],
   "source": [
    "import base64\n",
    "import json \n",
    "import uuid\n",
    "from sagemaker import ModelPackage\n",
    "import sagemaker as sage\n",
    "from sagemaker import get_execution_role\n",
    "from urllib.parse import urlparse\n",
    "import boto3\n",
    "import urllib.request\n",
    "import numpy as np\n",
    "from zipfile import ZipFile\n",
    "import pandas as pd"
   ]
  },
  {
   "cell_type": "markdown",
   "metadata": {},
   "source": [
    "#### A. Dataset format expected by the algorithm"
   ]
  },
  {
   "cell_type": "markdown",
   "metadata": {},
   "source": [
    "The algorithm requires data in the format as described for best results:\n",
    "* The inputs must be provided as a CSV file with mandatory information in columns.\n",
    "* The input data files must contain all columns specified in input data description; other columns will be ignored.\n",
    "* The input data files must contain the column 'DEPARTURE_DELAY' with Total Delay on Departure in minutes.\n",
    "* Training Data File name should be train.csv\n",
    "* Test Data File name should be test.csv\n",
    "* For detailed instructions, please refer sample notebook and algorithm input details"
   ]
  },
  {
   "cell_type": "markdown",
   "metadata": {},
   "source": [
    "#### B. Configure and visualize train and test dataset"
   ]
  },
  {
   "cell_type": "code",
   "execution_count": 3,
   "metadata": {},
   "outputs": [],
   "source": [
    "training_dataset='Training Inputs/training/train.csv'"
   ]
  },
  {
   "cell_type": "code",
   "execution_count": 4,
   "metadata": {},
   "outputs": [],
   "source": [
    "test_dataset='Training Inputs/test/test.csv'"
   ]
  },
  {
   "cell_type": "code",
   "execution_count": 5,
   "metadata": {},
   "outputs": [
    {
     "data": {
      "text/html": [
       "<div>\n",
       "<style scoped>\n",
       "    .dataframe tbody tr th:only-of-type {\n",
       "        vertical-align: middle;\n",
       "    }\n",
       "\n",
       "    .dataframe tbody tr th {\n",
       "        vertical-align: top;\n",
       "    }\n",
       "\n",
       "    .dataframe thead th {\n",
       "        text-align: right;\n",
       "    }\n",
       "</style>\n",
       "<table border=\"1\" class=\"dataframe\">\n",
       "  <thead>\n",
       "    <tr style=\"text-align: right;\">\n",
       "      <th></th>\n",
       "      <th>DATE</th>\n",
       "      <th>SCHEDULED_DEPARTURE</th>\n",
       "      <th>ORIGIN_AIRPORT</th>\n",
       "      <th>DESTINATION_AIRPORT</th>\n",
       "      <th>AIRLINE</th>\n",
       "      <th>SECURITY_DELAY</th>\n",
       "      <th>LATE_AIRCRAFT_DELAY</th>\n",
       "      <th>DEPARTURE_DELAY</th>\n",
       "    </tr>\n",
       "  </thead>\n",
       "  <tbody>\n",
       "    <tr>\n",
       "      <th>0</th>\n",
       "      <td>05/05/2015</td>\n",
       "      <td>07:00</td>\n",
       "      <td>LAX</td>\n",
       "      <td>BOS</td>\n",
       "      <td>AA</td>\n",
       "      <td>NaN</td>\n",
       "      <td>NaN</td>\n",
       "      <td>-5.0</td>\n",
       "    </tr>\n",
       "    <tr>\n",
       "      <th>1</th>\n",
       "      <td>30/07/2015</td>\n",
       "      <td>13:40</td>\n",
       "      <td>ATL</td>\n",
       "      <td>IND</td>\n",
       "      <td>WN</td>\n",
       "      <td>NaN</td>\n",
       "      <td>NaN</td>\n",
       "      <td>0.0</td>\n",
       "    </tr>\n",
       "    <tr>\n",
       "      <th>2</th>\n",
       "      <td>07/04/2015</td>\n",
       "      <td>10:53</td>\n",
       "      <td>CAE</td>\n",
       "      <td>DFW</td>\n",
       "      <td>EV</td>\n",
       "      <td>0.0</td>\n",
       "      <td>196.0</td>\n",
       "      <td>204.0</td>\n",
       "    </tr>\n",
       "    <tr>\n",
       "      <th>3</th>\n",
       "      <td>12/11/2015</td>\n",
       "      <td>17:00</td>\n",
       "      <td>MSP</td>\n",
       "      <td>ATL</td>\n",
       "      <td>WN</td>\n",
       "      <td>NaN</td>\n",
       "      <td>NaN</td>\n",
       "      <td>21.0</td>\n",
       "    </tr>\n",
       "    <tr>\n",
       "      <th>4</th>\n",
       "      <td>06/02/2015</td>\n",
       "      <td>06:55</td>\n",
       "      <td>LGA</td>\n",
       "      <td>STL</td>\n",
       "      <td>WN</td>\n",
       "      <td>NaN</td>\n",
       "      <td>NaN</td>\n",
       "      <td>-8.0</td>\n",
       "    </tr>\n",
       "  </tbody>\n",
       "</table>\n",
       "</div>"
      ],
      "text/plain": [
       "         DATE SCHEDULED_DEPARTURE ORIGIN_AIRPORT DESTINATION_AIRPORT AIRLINE  \\\n",
       "0  05/05/2015               07:00            LAX                 BOS      AA   \n",
       "1  30/07/2015               13:40            ATL                 IND      WN   \n",
       "2  07/04/2015               10:53            CAE                 DFW      EV   \n",
       "3  12/11/2015               17:00            MSP                 ATL      WN   \n",
       "4  06/02/2015               06:55            LGA                 STL      WN   \n",
       "\n",
       "   SECURITY_DELAY  LATE_AIRCRAFT_DELAY  DEPARTURE_DELAY  \n",
       "0             NaN                  NaN             -5.0  \n",
       "1             NaN                  NaN              0.0  \n",
       "2             0.0                196.0            204.0  \n",
       "3             NaN                  NaN             21.0  \n",
       "4             NaN                  NaN             -8.0  "
      ]
     },
     "execution_count": 5,
     "metadata": {},
     "output_type": "execute_result"
    }
   ],
   "source": [
    "df = pd.read_csv(training_dataset)\n",
    "df.head()"
   ]
  },
  {
   "cell_type": "markdown",
   "metadata": {},
   "source": [
    "#### C. Upload datasets to Amazon S3"
   ]
  },
  {
   "cell_type": "code",
   "execution_count": 6,
   "metadata": {},
   "outputs": [],
   "source": [
    "sagemaker_session = sage.Session()\n",
    "bucket=sagemaker_session.default_bucket()"
   ]
  },
  {
   "cell_type": "code",
   "execution_count": 8,
   "metadata": {},
   "outputs": [
    {
     "name": "stdout",
     "output_type": "stream",
     "text": [
      "Training input uploaded to s3://sagemaker-us-east-2-786796469737/flight-delays/training-input-data\n"
     ]
    }
   ],
   "source": [
    "# training input location\n",
    "common_prefix = \"flight-delays\"\n",
    "training_input_prefix = common_prefix + \"/training-input-data\"\n",
    "TRAINING_WORKDIR = \"Training Inputs/training\"\n",
    "training_input = sagemaker_session.upload_data(TRAINING_WORKDIR, key_prefix=training_input_prefix)\n",
    "print(\"Training input uploaded to \" + training_input)"
   ]
  },
  {
   "cell_type": "code",
   "execution_count": 9,
   "metadata": {},
   "outputs": [
    {
     "name": "stdout",
     "output_type": "stream",
     "text": [
      "Test input uploaded to s3://sagemaker-us-east-2-786796469737/flight-delays/test-input-data\n"
     ]
    }
   ],
   "source": [
    "# test input location\n",
    "test_input_prefix = common_prefix + \"/test-input-data\"\n",
    "TEST_WORKDIR = \"Training Inputs/test\"\n",
    "test_input = sagemaker_session.upload_data(TEST_WORKDIR, key_prefix=test_input_prefix)\n",
    "print(\"Test input uploaded to \" + test_input)"
   ]
  },
  {
   "cell_type": "markdown",
   "metadata": {},
   "source": [
    "## 3: Train a machine learning model"
   ]
  },
  {
   "cell_type": "markdown",
   "metadata": {},
   "source": [
    "Now that dataset is available in an accessible Amazon S3 bucket, we are ready to train a machine learning model. "
   ]
  },
  {
   "cell_type": "markdown",
   "metadata": {},
   "source": [
    "### 3.1 Set up environment"
   ]
  },
  {
   "cell_type": "code",
   "execution_count": 10,
   "metadata": {},
   "outputs": [],
   "source": [
    "role = get_execution_role()"
   ]
  },
  {
   "cell_type": "code",
   "execution_count": 11,
   "metadata": {},
   "outputs": [],
   "source": [
    "output_location = 's3://{}/flight_delays/{}'.format(bucket, 'output')"
   ]
  },
  {
   "cell_type": "markdown",
   "metadata": {},
   "source": [
    "### 3.2 Train a model"
   ]
  },
  {
   "cell_type": "markdown",
   "metadata": {},
   "source": [
    "For information on creating an `Estimator` object, see [documentation](https://sagemaker.readthedocs.io/en/stable/api/training/estimators.html)"
   ]
  },
  {
   "cell_type": "code",
   "execution_count": 12,
   "metadata": {},
   "outputs": [
    {
     "name": "stdout",
     "output_type": "stream",
     "text": [
      "2021-11-15 06:44:17 Starting - Starting the training job...\n",
      "2021-11-15 06:44:40 Starting - Launching requested ML instancesProfilerReport-1636958657: InProgress\n",
      "...\n",
      "2021-11-15 06:45:09 Starting - Preparing the instances for training.........\n",
      "2021-11-15 06:46:40 Downloading - Downloading input data\n",
      "2021-11-15 06:46:40 Training - Downloading the training image...\n",
      "2021-11-15 06:47:12 Uploading - Uploading generated training model.\u001b[34mStarting the training.\u001b[0m\n",
      "\u001b[34mStarting Preprocessing\u001b[0m\n",
      "\u001b[34mPreprocessing done\u001b[0m\n",
      "\u001b[34mStarting Classification Training\u001b[0m\n",
      "\u001b[34mClassification Training done\u001b[0m\n",
      "\u001b[34mTraining Performance:\u001b[0m\n",
      "\u001b[34mClassification Report:\n",
      "              precision    recall  f1-score   support\n",
      "         0.0       0.79      0.99      0.88        77\n",
      "         1.0       0.75      0.13      0.22        23\n",
      "    accuracy                           0.79       100\n",
      "   macro avg       0.77      0.56      0.55       100\u001b[0m\n",
      "\u001b[34mweighted avg       0.78      0.79      0.73       100\u001b[0m\n",
      "\u001b[34mAccuracy: 79.0\u001b[0m\n",
      "\u001b[34mTest Performance:\u001b[0m\n",
      "\u001b[34mClassification Report:\n",
      "              precision    recall  f1-score   support\n",
      "         0.0       0.69      0.93      0.79        70\n",
      "         1.0       0.17      0.03      0.06        30\n",
      "    accuracy                           0.66       100\n",
      "   macro avg       0.43      0.48      0.42       100\u001b[0m\n",
      "\u001b[34mweighted avg       0.53      0.66      0.57       100\u001b[0m\n",
      "\u001b[34mAccuracy: 66.0\u001b[0m\n",
      "\u001b[34mStarting Regression Training\u001b[0m\n",
      "\u001b[34mRegression Training done\u001b[0m\n",
      "\u001b[34mR2 Score:\u001b[0m\n",
      "\u001b[34mTraining set: 0.2543730667026307\u001b[0m\n",
      "\u001b[34mTest set: -0.19611953605033428\u001b[0m\n",
      "\u001b[34mModel saved\u001b[0m\n",
      "\u001b[34mSuccess\u001b[0m\n",
      "\n",
      "2021-11-15 06:47:41 Completed - Training job completed\n",
      "Training seconds: 50\n",
      "Billable seconds: 50\n"
     ]
    }
   ],
   "source": [
    "#Create an estimator object for running a training job\n",
    "estimator = sage.algorithm.AlgorithmEstimator(\n",
    "    algorithm_arn=algo_arn,\n",
    "    base_job_name=\"flight-delays-training\",\n",
    "    role=role,\n",
    "    train_instance_count=1,\n",
    "    train_instance_type='ml.m5.large',\n",
    "    input_mode=\"File\",\n",
    "    output_path=output_location,\n",
    "    sagemaker_session=sagemaker_session,\n",
    "    instance_count=1,\n",
    "    instance_type='ml.m5.large'\n",
    ")\n",
    "#Run the training job.\n",
    "estimator.fit({\"training\": training_input, \"test\":test_input})"
   ]
  },
  {
   "cell_type": "markdown",
   "metadata": {},
   "source": [
    "See this [blog-post](https://aws.amazon.com/blogs/machine-learning/easily-monitor-and-visualize-metrics-while-training-models-on-amazon-sagemaker/) for more information how to visualize metrics during the process. You can also open the training job from [Amazon SageMaker console](https://console.aws.amazon.com/sagemaker/home?#/jobs/) and monitor the metrics/logs in **Monitor** section."
   ]
  },
  {
   "cell_type": "markdown",
   "metadata": {},
   "source": [
    "### 4: Deploy model and verify results"
   ]
  },
  {
   "cell_type": "markdown",
   "metadata": {},
   "source": [
    "Now you can deploy the model for performing real-time inference."
   ]
  },
  {
   "cell_type": "code",
   "execution_count": 13,
   "metadata": {},
   "outputs": [],
   "source": [
    "model_name='flight-delays'\n",
    "\n",
    "content_type='application/zip'\n",
    "\n",
    "real_time_inference_instance_type='ml.m5.large'\n",
    "batch_transform_inference_instance_type='ml.m5.large'"
   ]
  },
  {
   "cell_type": "markdown",
   "metadata": {},
   "source": [
    "#### A. Deploy trained model"
   ]
  },
  {
   "cell_type": "code",
   "execution_count": 14,
   "metadata": {},
   "outputs": [
    {
     "name": "stdout",
     "output_type": "stream",
     "text": [
      "..........\n",
      "---!"
     ]
    }
   ],
   "source": [
    "from sagemaker.predictor import csv_serializer\n",
    "predictor = estimator.deploy(1, real_time_inference_instance_type)"
   ]
  },
  {
   "cell_type": "markdown",
   "metadata": {},
   "source": [
    "Once endpoint is created, you can perform real-time inference."
   ]
  },
  {
   "cell_type": "markdown",
   "metadata": {},
   "source": [
    "#### B. Create input payload"
   ]
  },
  {
   "cell_type": "code",
   "execution_count": 25,
   "metadata": {},
   "outputs": [],
   "source": [
    "file_name = '\"Model Input\"/inference.zip'"
   ]
  },
  {
   "cell_type": "markdown",
   "metadata": {},
   "source": [
    "#### C. Perform real-time inference"
   ]
  },
  {
   "cell_type": "code",
   "execution_count": 31,
   "metadata": {},
   "outputs": [],
   "source": [
    "output_file_name = '\"Model Output\"/output.zip'"
   ]
  },
  {
   "cell_type": "code",
   "execution_count": 32,
   "metadata": {
    "scrolled": true
   },
   "outputs": [
    {
     "name": "stdout",
     "output_type": "stream",
     "text": [
      "{\r\n",
      "    \"ContentType\": \"application/zip\",\r\n",
      "    \"InvokedProductionVariant\": \"AllTraffic\"\r\n",
      "}\r\n"
     ]
    }
   ],
   "source": [
    "!aws sagemaker-runtime invoke-endpoint \\\n",
    "    --endpoint-name $predictor.endpoint_name \\\n",
    "    --body fileb://$file_name \\\n",
    "    --content-type $content_type \\\n",
    "    --region $sagemaker_session.boto_region_name \\\n",
    "    $output_file_name"
   ]
  },
  {
   "cell_type": "markdown",
   "metadata": {},
   "source": [
    "#### D. Visualize output"
   ]
  },
  {
   "cell_type": "code",
   "execution_count": 33,
   "metadata": {},
   "outputs": [
    {
     "data": {
      "text/html": [
       "<div>\n",
       "<style scoped>\n",
       "    .dataframe tbody tr th:only-of-type {\n",
       "        vertical-align: middle;\n",
       "    }\n",
       "\n",
       "    .dataframe tbody tr th {\n",
       "        vertical-align: top;\n",
       "    }\n",
       "\n",
       "    .dataframe thead th {\n",
       "        text-align: right;\n",
       "    }\n",
       "</style>\n",
       "<table border=\"1\" class=\"dataframe\">\n",
       "  <thead>\n",
       "    <tr style=\"text-align: right;\">\n",
       "      <th></th>\n",
       "      <th>DATE</th>\n",
       "      <th>SCHEDULED_DEPARTURE</th>\n",
       "      <th>ORIGIN_AIRPORT</th>\n",
       "      <th>DESTINATION_AIRPORT</th>\n",
       "      <th>AIRLINE</th>\n",
       "      <th>SECURITY_DELAY</th>\n",
       "      <th>LATE_AIRCRAFT_DELAY</th>\n",
       "      <th>Classifier Prediction</th>\n",
       "      <th>Regressor Prediction</th>\n",
       "    </tr>\n",
       "  </thead>\n",
       "  <tbody>\n",
       "    <tr>\n",
       "      <th>0</th>\n",
       "      <td>18/04/2015</td>\n",
       "      <td>20:45</td>\n",
       "      <td>PHL</td>\n",
       "      <td>MCO</td>\n",
       "      <td>US</td>\n",
       "      <td>NaN</td>\n",
       "      <td>NaN</td>\n",
       "      <td>0.0</td>\n",
       "      <td>14.203183</td>\n",
       "    </tr>\n",
       "    <tr>\n",
       "      <th>1</th>\n",
       "      <td>01/05/2015</td>\n",
       "      <td>12:10</td>\n",
       "      <td>EWR</td>\n",
       "      <td>MDW</td>\n",
       "      <td>WN</td>\n",
       "      <td>NaN</td>\n",
       "      <td>NaN</td>\n",
       "      <td>0.0</td>\n",
       "      <td>9.476961</td>\n",
       "    </tr>\n",
       "    <tr>\n",
       "      <th>2</th>\n",
       "      <td>16/12/2015</td>\n",
       "      <td>18:00</td>\n",
       "      <td>ORD</td>\n",
       "      <td>LGA</td>\n",
       "      <td>UA</td>\n",
       "      <td>NaN</td>\n",
       "      <td>NaN</td>\n",
       "      <td>0.0</td>\n",
       "      <td>22.118745</td>\n",
       "    </tr>\n",
       "    <tr>\n",
       "      <th>3</th>\n",
       "      <td>13/10/2015</td>\n",
       "      <td>09:17</td>\n",
       "      <td>15919</td>\n",
       "      <td>11292</td>\n",
       "      <td>OO</td>\n",
       "      <td>NaN</td>\n",
       "      <td>NaN</td>\n",
       "      <td>0.0</td>\n",
       "      <td>26.177241</td>\n",
       "    </tr>\n",
       "    <tr>\n",
       "      <th>4</th>\n",
       "      <td>24/11/2015</td>\n",
       "      <td>08:36</td>\n",
       "      <td>PHX</td>\n",
       "      <td>SFO</td>\n",
       "      <td>UA</td>\n",
       "      <td>0.0</td>\n",
       "      <td>0.0</td>\n",
       "      <td>0.0</td>\n",
       "      <td>26.177241</td>\n",
       "    </tr>\n",
       "    <tr>\n",
       "      <th>5</th>\n",
       "      <td>14/10/2015</td>\n",
       "      <td>15:47</td>\n",
       "      <td>14771</td>\n",
       "      <td>11292</td>\n",
       "      <td>UA</td>\n",
       "      <td>NaN</td>\n",
       "      <td>NaN</td>\n",
       "      <td>0.0</td>\n",
       "      <td>26.177241</td>\n",
       "    </tr>\n",
       "    <tr>\n",
       "      <th>6</th>\n",
       "      <td>14/01/2015</td>\n",
       "      <td>12:20</td>\n",
       "      <td>DFW</td>\n",
       "      <td>MCO</td>\n",
       "      <td>AA</td>\n",
       "      <td>NaN</td>\n",
       "      <td>NaN</td>\n",
       "      <td>0.0</td>\n",
       "      <td>6.329906</td>\n",
       "    </tr>\n",
       "    <tr>\n",
       "      <th>7</th>\n",
       "      <td>02/01/2015</td>\n",
       "      <td>06:00</td>\n",
       "      <td>SMF</td>\n",
       "      <td>PHX</td>\n",
       "      <td>US</td>\n",
       "      <td>NaN</td>\n",
       "      <td>NaN</td>\n",
       "      <td>0.0</td>\n",
       "      <td>12.825333</td>\n",
       "    </tr>\n",
       "    <tr>\n",
       "      <th>8</th>\n",
       "      <td>26/03/2015</td>\n",
       "      <td>10:15</td>\n",
       "      <td>MSP</td>\n",
       "      <td>BWI</td>\n",
       "      <td>DL</td>\n",
       "      <td>NaN</td>\n",
       "      <td>NaN</td>\n",
       "      <td>0.0</td>\n",
       "      <td>-6.462379</td>\n",
       "    </tr>\n",
       "    <tr>\n",
       "      <th>9</th>\n",
       "      <td>08/08/2015</td>\n",
       "      <td>17:10</td>\n",
       "      <td>MCO</td>\n",
       "      <td>MCI</td>\n",
       "      <td>WN</td>\n",
       "      <td>NaN</td>\n",
       "      <td>NaN</td>\n",
       "      <td>0.0</td>\n",
       "      <td>17.926988</td>\n",
       "    </tr>\n",
       "  </tbody>\n",
       "</table>\n",
       "</div>"
      ],
      "text/plain": [
       "         DATE SCHEDULED_DEPARTURE ORIGIN_AIRPORT DESTINATION_AIRPORT AIRLINE  \\\n",
       "0  18/04/2015               20:45            PHL                 MCO      US   \n",
       "1  01/05/2015               12:10            EWR                 MDW      WN   \n",
       "2  16/12/2015               18:00            ORD                 LGA      UA   \n",
       "3  13/10/2015               09:17          15919               11292      OO   \n",
       "4  24/11/2015               08:36            PHX                 SFO      UA   \n",
       "5  14/10/2015               15:47          14771               11292      UA   \n",
       "6  14/01/2015               12:20            DFW                 MCO      AA   \n",
       "7  02/01/2015               06:00            SMF                 PHX      US   \n",
       "8  26/03/2015               10:15            MSP                 BWI      DL   \n",
       "9  08/08/2015               17:10            MCO                 MCI      WN   \n",
       "\n",
       "   SECURITY_DELAY  LATE_AIRCRAFT_DELAY  Classifier Prediction  \\\n",
       "0             NaN                  NaN                    0.0   \n",
       "1             NaN                  NaN                    0.0   \n",
       "2             NaN                  NaN                    0.0   \n",
       "3             NaN                  NaN                    0.0   \n",
       "4             0.0                  0.0                    0.0   \n",
       "5             NaN                  NaN                    0.0   \n",
       "6             NaN                  NaN                    0.0   \n",
       "7             NaN                  NaN                    0.0   \n",
       "8             NaN                  NaN                    0.0   \n",
       "9             NaN                  NaN                    0.0   \n",
       "\n",
       "   Regressor Prediction  \n",
       "0             14.203183  \n",
       "1              9.476961  \n",
       "2             22.118745  \n",
       "3             26.177241  \n",
       "4             26.177241  \n",
       "5             26.177241  \n",
       "6              6.329906  \n",
       "7             12.825333  \n",
       "8             -6.462379  \n",
       "9             17.926988  "
      ]
     },
     "execution_count": 33,
     "metadata": {},
     "output_type": "execute_result"
    }
   ],
   "source": [
    "with ZipFile(\"output.zip\", \"r\") as output_zip:\n",
    "    filename = output_zip.namelist()[0]\n",
    "    output = pd.read_csv(output_zip.open(filename), low_memory=False)\n",
    "output.head(10)"
   ]
  },
  {
   "cell_type": "markdown",
   "metadata": {},
   "source": [
    "#### F. Delete the endpoint"
   ]
  },
  {
   "cell_type": "markdown",
   "metadata": {},
   "source": [
    "Now that you have successfully performed a real-time inference, you do not need the endpoint any more. you can terminate the same to avoid being charged."
   ]
  },
  {
   "cell_type": "code",
   "execution_count": 34,
   "metadata": {},
   "outputs": [],
   "source": [
    "predictor.delete_endpoint(delete_endpoint_config=True)"
   ]
  },
  {
   "cell_type": "markdown",
   "metadata": {},
   "source": [
    "Since this is an experiment, you do not need to run a hyperparameter tuning job. However, if you would like to see how to tune a model trained using a third-party algorithm with Amazon SageMaker's hyperparameter tuning functionality, you can run the optional tuning step."
   ]
  },
  {
   "cell_type": "markdown",
   "metadata": {},
   "source": [
    "### 5. Perform Batch inference"
   ]
  },
  {
   "cell_type": "markdown",
   "metadata": {},
   "source": [
    "In this section, you will perform batch inference using multiple input payloads together."
   ]
  },
  {
   "cell_type": "code",
   "execution_count": 35,
   "metadata": {},
   "outputs": [
    {
     "name": "stdout",
     "output_type": "stream",
     "text": [
      "Transform input uploaded to s3://sagemaker-us-east-2-786796469737/flight-delays/inference.zip\n"
     ]
    }
   ],
   "source": [
    "#upload the batch-transform job input files to S3\n",
    "transform_input_folder = \"Model Input/inference.zip\"\n",
    "transform_input = sagemaker_session.upload_data(transform_input_folder, key_prefix=model_name) \n",
    "print(\"Transform input uploaded to \" + transform_input)"
   ]
  },
  {
   "cell_type": "code",
   "execution_count": 36,
   "metadata": {},
   "outputs": [
    {
     "name": "stdout",
     "output_type": "stream",
     "text": [
      "..........\n",
      ".....................\n",
      "\u001b[34m * Serving Flask app 'serve' (lazy loading)\n",
      " * Environment: production\n",
      "   WARNING: This is a development server. Do not use it in a production deployment.\n",
      "   Use a production WSGI server instead.\n",
      " * Debug mode: off\n",
      " * Running on all addresses.\n",
      "   WARNING: This is a development server. Do not use it in a production deployment.\n",
      " * Running on http://169.254.255.131:8080/ (Press CTRL+C to quit)\u001b[0m\n",
      "\u001b[34m169.254.255.130 - - [15/Nov/2021 07:04:12] \"GET /ping HTTP/1.1\" 200 -\u001b[0m\n",
      "\u001b[34m169.254.255.130 - - [15/Nov/2021 07:04:12] \"#033[33mGET /execution-parameters HTTP/1.1#033[0m\" 404 -\u001b[0m\n",
      "\u001b[34mPreprocessing done\u001b[0m\n",
      "\u001b[34mStarting Classification\u001b[0m\n",
      "\u001b[34mClassification done\u001b[0m\n",
      "\u001b[34mStarting Regression\u001b[0m\n",
      "\u001b[34mRegression done\u001b[0m\n",
      "\u001b[34m169.254.255.130 - - [15/Nov/2021 07:04:12] \"POST /invocations HTTP/1.1\" 200 -\u001b[0m\n",
      "\u001b[32m2021-11-15T07:04:12.814:[sagemaker logs]: MaxConcurrentTransforms=1, MaxPayloadInMB=6, BatchStrategy=MULTI_RECORD\u001b[0m\n",
      "\u001b[34m * Serving Flask app 'serve' (lazy loading)\n",
      " * Environment: production\n",
      "   WARNING: This is a development server. Do not use it in a production deployment.\n",
      "   Use a production WSGI server instead.\n",
      " * Debug mode: off\n",
      " * Running on all addresses.\n",
      "   WARNING: This is a development server. Do not use it in a production deployment.\n",
      " * Running on http://169.254.255.131:8080/ (Press CTRL+C to quit)\u001b[0m\n",
      "\u001b[35m * Serving Flask app 'serve' (lazy loading)\n",
      " * Environment: production\n",
      "   WARNING: This is a development server. Do not use it in a production deployment.\n",
      "   Use a production WSGI server instead.\n",
      " * Debug mode: off\n",
      " * Running on all addresses.\n",
      "   WARNING: This is a development server. Do not use it in a production deployment.\n",
      " * Running on http://169.254.255.131:8080/ (Press CTRL+C to quit)\u001b[0m\n",
      "\u001b[34m169.254.255.130 - - [15/Nov/2021 07:04:12] \"GET /ping HTTP/1.1\" 200 -\u001b[0m\n",
      "\u001b[34m169.254.255.130 - - [15/Nov/2021 07:04:12] \"#033[33mGET /execution-parameters HTTP/1.1#033[0m\" 404 -\u001b[0m\n",
      "\u001b[34mPreprocessing done\u001b[0m\n",
      "\u001b[34mStarting Classification\u001b[0m\n",
      "\u001b[34mClassification done\u001b[0m\n",
      "\u001b[34mStarting Regression\u001b[0m\n",
      "\u001b[35m169.254.255.130 - - [15/Nov/2021 07:04:12] \"GET /ping HTTP/1.1\" 200 -\u001b[0m\n",
      "\u001b[35m169.254.255.130 - - [15/Nov/2021 07:04:12] \"#033[33mGET /execution-parameters HTTP/1.1#033[0m\" 404 -\u001b[0m\n",
      "\u001b[35mPreprocessing done\u001b[0m\n",
      "\u001b[35mStarting Classification\u001b[0m\n",
      "\u001b[35mClassification done\u001b[0m\n",
      "\u001b[35mStarting Regression\u001b[0m\n",
      "\u001b[34mRegression done\u001b[0m\n",
      "\u001b[34m169.254.255.130 - - [15/Nov/2021 07:04:12] \"POST /invocations HTTP/1.1\" 200 -\u001b[0m\n",
      "\u001b[35mRegression done\u001b[0m\n",
      "\u001b[35m169.254.255.130 - - [15/Nov/2021 07:04:12] \"POST /invocations HTTP/1.1\" 200 -\u001b[0m\n",
      "\u001b[32m2021-11-15T07:04:12.814:[sagemaker logs]: MaxConcurrentTransforms=1, MaxPayloadInMB=6, BatchStrategy=MULTI_RECORD\u001b[0m\n"
     ]
    }
   ],
   "source": [
    "#Run the batch-transform job\n",
    "transformer = estimator.transformer(1, batch_transform_inference_instance_type)\n",
    "transformer.transform(transform_input, content_type=content_type)\n",
    "transformer.wait()"
   ]
  },
  {
   "cell_type": "code",
   "execution_count": 37,
   "metadata": {},
   "outputs": [
    {
     "data": {
      "text/plain": [
       "'s3://sagemaker-us-east-2-786796469737/flight-delays-training-2021-11-15-07-00-43-832'"
      ]
     },
     "execution_count": 37,
     "metadata": {},
     "output_type": "execute_result"
    }
   ],
   "source": [
    "#output is available on following path\n",
    "transformer.output_path"
   ]
  },
  {
   "cell_type": "markdown",
   "metadata": {},
   "source": [
    "#### A. Inspect the Batch Transform Output in S3"
   ]
  },
  {
   "cell_type": "code",
   "execution_count": 38,
   "metadata": {},
   "outputs": [],
   "source": [
    "from urllib.parse import urlparse\n",
    "\n",
    "parsed_url = urlparse(transformer.output_path)\n",
    "bucket_name = parsed_url.netloc\n",
    "file_key = '{}/{}.out'.format(parsed_url.path[1:], \"inference.zip\")\n",
    "\n",
    "s3_client = sagemaker_session.boto_session.client('s3')\n",
    "\n",
    "response = s3_client.get_object(Bucket = sagemaker_session.default_bucket(), Key = file_key)"
   ]
  },
  {
   "cell_type": "code",
   "execution_count": 39,
   "metadata": {},
   "outputs": [],
   "source": [
    "bucketFolder = transformer.output_path.rsplit('/')[3]"
   ]
  },
  {
   "cell_type": "code",
   "execution_count": 40,
   "metadata": {},
   "outputs": [
    {
     "name": "stdout",
     "output_type": "stream",
     "text": [
      "Output file loaded from bucket\n"
     ]
    }
   ],
   "source": [
    "import boto3\n",
    "s3_conn = boto3.client(\"s3\")\n",
    "bucket_name=bucket\n",
    "with open('output.zip', 'wb') as f:\n",
    "    s3_conn.download_fileobj(bucket_name, bucketFolder+'/' + \"inference.zip\" +'.out', f)\n",
    "    print(\"Output file loaded from bucket\")"
   ]
  },
  {
   "cell_type": "code",
   "execution_count": 41,
   "metadata": {},
   "outputs": [],
   "source": [
    "with ZipFile(\"output.zip\", \"r\") as output_zip:\n",
    "    filename = output_zip.namelist()[0]\n",
    "    output = pd.read_csv(output_zip.open(filename), low_memory=False)"
   ]
  },
  {
   "cell_type": "code",
   "execution_count": 42,
   "metadata": {},
   "outputs": [
    {
     "data": {
      "text/html": [
       "<div>\n",
       "<style scoped>\n",
       "    .dataframe tbody tr th:only-of-type {\n",
       "        vertical-align: middle;\n",
       "    }\n",
       "\n",
       "    .dataframe tbody tr th {\n",
       "        vertical-align: top;\n",
       "    }\n",
       "\n",
       "    .dataframe thead th {\n",
       "        text-align: right;\n",
       "    }\n",
       "</style>\n",
       "<table border=\"1\" class=\"dataframe\">\n",
       "  <thead>\n",
       "    <tr style=\"text-align: right;\">\n",
       "      <th></th>\n",
       "      <th>DATE</th>\n",
       "      <th>SCHEDULED_DEPARTURE</th>\n",
       "      <th>ORIGIN_AIRPORT</th>\n",
       "      <th>DESTINATION_AIRPORT</th>\n",
       "      <th>AIRLINE</th>\n",
       "      <th>SECURITY_DELAY</th>\n",
       "      <th>LATE_AIRCRAFT_DELAY</th>\n",
       "      <th>Classifier Prediction</th>\n",
       "      <th>Regressor Prediction</th>\n",
       "    </tr>\n",
       "  </thead>\n",
       "  <tbody>\n",
       "    <tr>\n",
       "      <th>0</th>\n",
       "      <td>18/04/2015</td>\n",
       "      <td>20:45</td>\n",
       "      <td>PHL</td>\n",
       "      <td>MCO</td>\n",
       "      <td>US</td>\n",
       "      <td>NaN</td>\n",
       "      <td>NaN</td>\n",
       "      <td>0.0</td>\n",
       "      <td>14.203183</td>\n",
       "    </tr>\n",
       "    <tr>\n",
       "      <th>1</th>\n",
       "      <td>01/05/2015</td>\n",
       "      <td>12:10</td>\n",
       "      <td>EWR</td>\n",
       "      <td>MDW</td>\n",
       "      <td>WN</td>\n",
       "      <td>NaN</td>\n",
       "      <td>NaN</td>\n",
       "      <td>0.0</td>\n",
       "      <td>9.476961</td>\n",
       "    </tr>\n",
       "    <tr>\n",
       "      <th>2</th>\n",
       "      <td>16/12/2015</td>\n",
       "      <td>18:00</td>\n",
       "      <td>ORD</td>\n",
       "      <td>LGA</td>\n",
       "      <td>UA</td>\n",
       "      <td>NaN</td>\n",
       "      <td>NaN</td>\n",
       "      <td>0.0</td>\n",
       "      <td>22.118745</td>\n",
       "    </tr>\n",
       "    <tr>\n",
       "      <th>3</th>\n",
       "      <td>13/10/2015</td>\n",
       "      <td>09:17</td>\n",
       "      <td>15919</td>\n",
       "      <td>11292</td>\n",
       "      <td>OO</td>\n",
       "      <td>NaN</td>\n",
       "      <td>NaN</td>\n",
       "      <td>0.0</td>\n",
       "      <td>26.177241</td>\n",
       "    </tr>\n",
       "    <tr>\n",
       "      <th>4</th>\n",
       "      <td>24/11/2015</td>\n",
       "      <td>08:36</td>\n",
       "      <td>PHX</td>\n",
       "      <td>SFO</td>\n",
       "      <td>UA</td>\n",
       "      <td>0.0</td>\n",
       "      <td>0.0</td>\n",
       "      <td>0.0</td>\n",
       "      <td>26.177241</td>\n",
       "    </tr>\n",
       "    <tr>\n",
       "      <th>5</th>\n",
       "      <td>14/10/2015</td>\n",
       "      <td>15:47</td>\n",
       "      <td>14771</td>\n",
       "      <td>11292</td>\n",
       "      <td>UA</td>\n",
       "      <td>NaN</td>\n",
       "      <td>NaN</td>\n",
       "      <td>0.0</td>\n",
       "      <td>26.177241</td>\n",
       "    </tr>\n",
       "    <tr>\n",
       "      <th>6</th>\n",
       "      <td>14/01/2015</td>\n",
       "      <td>12:20</td>\n",
       "      <td>DFW</td>\n",
       "      <td>MCO</td>\n",
       "      <td>AA</td>\n",
       "      <td>NaN</td>\n",
       "      <td>NaN</td>\n",
       "      <td>0.0</td>\n",
       "      <td>6.329906</td>\n",
       "    </tr>\n",
       "    <tr>\n",
       "      <th>7</th>\n",
       "      <td>02/01/2015</td>\n",
       "      <td>06:00</td>\n",
       "      <td>SMF</td>\n",
       "      <td>PHX</td>\n",
       "      <td>US</td>\n",
       "      <td>NaN</td>\n",
       "      <td>NaN</td>\n",
       "      <td>0.0</td>\n",
       "      <td>12.825333</td>\n",
       "    </tr>\n",
       "    <tr>\n",
       "      <th>8</th>\n",
       "      <td>26/03/2015</td>\n",
       "      <td>10:15</td>\n",
       "      <td>MSP</td>\n",
       "      <td>BWI</td>\n",
       "      <td>DL</td>\n",
       "      <td>NaN</td>\n",
       "      <td>NaN</td>\n",
       "      <td>0.0</td>\n",
       "      <td>-6.462379</td>\n",
       "    </tr>\n",
       "    <tr>\n",
       "      <th>9</th>\n",
       "      <td>08/08/2015</td>\n",
       "      <td>17:10</td>\n",
       "      <td>MCO</td>\n",
       "      <td>MCI</td>\n",
       "      <td>WN</td>\n",
       "      <td>NaN</td>\n",
       "      <td>NaN</td>\n",
       "      <td>0.0</td>\n",
       "      <td>17.926988</td>\n",
       "    </tr>\n",
       "  </tbody>\n",
       "</table>\n",
       "</div>"
      ],
      "text/plain": [
       "         DATE SCHEDULED_DEPARTURE ORIGIN_AIRPORT DESTINATION_AIRPORT AIRLINE  \\\n",
       "0  18/04/2015               20:45            PHL                 MCO      US   \n",
       "1  01/05/2015               12:10            EWR                 MDW      WN   \n",
       "2  16/12/2015               18:00            ORD                 LGA      UA   \n",
       "3  13/10/2015               09:17          15919               11292      OO   \n",
       "4  24/11/2015               08:36            PHX                 SFO      UA   \n",
       "5  14/10/2015               15:47          14771               11292      UA   \n",
       "6  14/01/2015               12:20            DFW                 MCO      AA   \n",
       "7  02/01/2015               06:00            SMF                 PHX      US   \n",
       "8  26/03/2015               10:15            MSP                 BWI      DL   \n",
       "9  08/08/2015               17:10            MCO                 MCI      WN   \n",
       "\n",
       "   SECURITY_DELAY  LATE_AIRCRAFT_DELAY  Classifier Prediction  \\\n",
       "0             NaN                  NaN                    0.0   \n",
       "1             NaN                  NaN                    0.0   \n",
       "2             NaN                  NaN                    0.0   \n",
       "3             NaN                  NaN                    0.0   \n",
       "4             0.0                  0.0                    0.0   \n",
       "5             NaN                  NaN                    0.0   \n",
       "6             NaN                  NaN                    0.0   \n",
       "7             NaN                  NaN                    0.0   \n",
       "8             NaN                  NaN                    0.0   \n",
       "9             NaN                  NaN                    0.0   \n",
       "\n",
       "   Regressor Prediction  \n",
       "0             14.203183  \n",
       "1              9.476961  \n",
       "2             22.118745  \n",
       "3             26.177241  \n",
       "4             26.177241  \n",
       "5             26.177241  \n",
       "6              6.329906  \n",
       "7             12.825333  \n",
       "8             -6.462379  \n",
       "9             17.926988  "
      ]
     },
     "execution_count": 42,
     "metadata": {},
     "output_type": "execute_result"
    }
   ],
   "source": [
    "output.head(10)"
   ]
  },
  {
   "cell_type": "markdown",
   "metadata": {},
   "source": [
    "### 6. Clean-up"
   ]
  },
  {
   "cell_type": "markdown",
   "metadata": {},
   "source": [
    "#### A. Delete the model"
   ]
  },
  {
   "cell_type": "code",
   "execution_count": 43,
   "metadata": {},
   "outputs": [],
   "source": [
    "transformer.delete_model()"
   ]
  },
  {
   "cell_type": "markdown",
   "metadata": {},
   "source": [
    "#### B. Unsubscribe to the listing (optional)"
   ]
  },
  {
   "cell_type": "markdown",
   "metadata": {},
   "source": [
    "If you would like to unsubscribe to the algorithm, follow these steps. Before you cancel the subscription, ensure that you do not have any [deployable model](https://console.aws.amazon.com/sagemaker/home#/models) created from the model package or using the algorithm. Note - You can find this information by looking at the container name associated with the model. \n",
    "\n",
    "**Steps to unsubscribe to product from AWS Marketplace**:\n",
    "1. Navigate to __Machine Learning__ tab on [__Your Software subscriptions page__](https://aws.amazon.com/marketplace/ai/library?productType=ml&ref_=mlmp_gitdemo_indust)\n",
    "2. Locate the listing that you want to cancel the subscription for, and then choose __Cancel Subscription__  to cancel the subscription.\n",
    "\n"
   ]
  }
 ],
 "metadata": {
  "kernelspec": {
   "display_name": "conda_python3",
   "language": "python",
   "name": "conda_python3"
  },
  "language_info": {
   "codemirror_mode": {
    "name": "ipython",
    "version": 3
   },
   "file_extension": ".py",
   "mimetype": "text/x-python",
   "name": "python",
   "nbconvert_exporter": "python",
   "pygments_lexer": "ipython3",
   "version": "3.6.13"
  }
 },
 "nbformat": 4,
 "nbformat_minor": 2
}
